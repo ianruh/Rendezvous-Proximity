{
 "cells": [
  {
   "cell_type": "markdown",
   "id": "744daf0a-9ace-4357-8572-f2c7e549f3da",
   "metadata": {},
   "source": [
    "# Rendezvous Trajectories"
   ]
  },
  {
   "cell_type": "code",
   "execution_count": 2,
   "id": "30d7e30e-5601-48f1-a9be-944b087a07bd",
   "metadata": {},
   "outputs": [],
   "source": [
    "#!/usr/bin/env python3\n",
    "\n",
    "import pyomo.environ as pyo\n",
    "import numpy as np\n",
    "import matplotlib.pyplot as plt"
   ]
  },
  {
   "cell_type": "code",
   "execution_count": 39,
   "id": "ae28b3fe-9253-4b63-b3ea-d17b31802d12",
   "metadata": {},
   "outputs": [],
   "source": [
    "# MPC Hyper Parameters\n",
    "class TrajectoryParams():\n",
    "    # Main Params\n",
    "    dt = 10 # [sec] MPC sampling time\n",
    "    N = 1000\n",
    "    \n",
    "    # Objective Params:\n",
    "    R = 100*np.diag([1.0, 1.0, 1.0])\n",
    "    Q = np.diag([1.0, 1.0, 1.0, 1.0, 1.0, 1.0])\n",
    "    Qf = 100*np.diag([2.0, 2.0, 1.0, 100.0])\n",
    "    \n",
    "    # Simulation Params\n",
    "    L = 2.60096 # [m] Wheelbase length\n",
    "\n",
    "class TrajectorySolver():\n",
    "    def __init__(self, params=TrajectoryParams(), plot=False):\n",
    "        # Store main parameters\n",
    "        self.dt = params.dt # [sec] MPC sampling time\n",
    "        self.N = params.N # Number of samples\n",
    "        self.plot = plot # Generate a plot each __call__?\n",
    "        # Store objective parameters\n",
    "        self.obj = self._cvx_obj # Specify which obj to use\n",
    "        self.Q = params.Q # State path weight matrix\n",
    "        self.R = params.R # Input path weight matrix\n",
    "        self.Qf = params.Qf # State terminal weight matrix\n",
    "        self.L = params.L # Wheelbase length\n",
    "\n",
    "        # Initialize model and solver\n",
    "        self.opt = pyo.SolverFactory('ipopt') # Optimizer\n",
    "        self.model = self._init_model()\n",
    "\n",
    "    # Solve the MPC problem with initial state x0 and desired xf\n",
    "    # returns u0 (v_dot, psi_dot)\n",
    "    def __call__(self,*, x0, xf, u_max=10.0, tee=False):\n",
    "        # Initialize parameters\n",
    "        self.model.x0[0] = x0[0]\n",
    "        self.model.x0[1] = x0[1]\n",
    "        self.model.x0[2] = x0[2]\n",
    "        self.model.x0[3] = x0[3]\n",
    "        self.model.x0[4] = x0[4]\n",
    "        self.model.x0[5] = x0[5]\n",
    "        \n",
    "        self.model.xf[0] = xf[0]\n",
    "        self.model.xf[1] = xf[1]\n",
    "        self.model.xf[2] = xf[2]\n",
    "        self.model.xf[3] = xf[3]\n",
    "        self.model.xf[4] = xf[4]\n",
    "        self.model.xf[5] = xf[5]\n",
    "        \n",
    "        self.model.u_max[0] = u_max\n",
    "        # Solve problem\n",
    "        self.opt.solve(self.model, tee=tee)\n",
    "\n",
    "        # Retrieve input u0\n",
    "        xs = np.array([self.model.state[t,0].value for t in range(self.N)])\n",
    "        ys = np.array([self.model.state[t,1].value for t in range(self.N)])\n",
    "        zs = np.array([self.model.state[t,2].value for t in range(self.N)])\n",
    "        \n",
    "        vxs = np.array([self.model.state[t,3].value for t in range(self.N)])\n",
    "        vys = np.array([self.model.state[t,4].value for t in range(self.N)])\n",
    "        vzs = np.array([self.model.state[t,5].value for t in range(self.N)])\n",
    "        \n",
    "        uxs = np.array([self.model.input[t,0].value for t in range(self.N)])\n",
    "        uys = np.array([self.model.input[t,1].value for t in range(self.N)])\n",
    "        uzs = np.array([self.model.input[t,2].value for t in range(self.N)])\n",
    "        times = np.linspace(0, self.N*self.dt, self.N)\n",
    "        \n",
    "        output = np.vstack([times, xs, ys, zs, vxs, vys, vzs]).T\n",
    "\n",
    "        # Plot\n",
    "        if self.plot:\n",
    "            self._plot()\n",
    "\n",
    "        return output\n",
    "\n",
    "\n",
    "    # Interval constraints on u\n",
    "    def _input_bounds(self, model, t, i):\n",
    "        return(-1*model.u_max[0], model.u_max[0])\n",
    "\n",
    "    # Interval constraints on x\n",
    "    def _state_bounds(self, model, t, i):\n",
    "        if i == 0: # x\n",
    "            return(None, None)\n",
    "        elif i == 1: # y\n",
    "            return(None, None)\n",
    "        elif i == 2: # z\n",
    "            return(None, None)\n",
    "        elif i == 3: # vx\n",
    "            return(None, None)\n",
    "        elif i == 4: # vy\n",
    "            return(None, None)\n",
    "        else: # vz\n",
    "            return(None, None)\n",
    "\n",
    "#     # Nonconvex Objective\n",
    "#     def _ncvx_obj(self, model):\n",
    "#         term_expr = self.Qf[0][0]*(model.state[self.N,0] - model.xf[0])**2 + \\\n",
    "#                 self.Qf[1][1]*(model.state[self.N,1] - model.xf[1])**2 + \\\n",
    "#                 self.Qf[2][2]*(model.state[self.N,2] - model.xf[2])**2 + \\\n",
    "#                 self.Qf[3][3]*(model.state[self.N,3] - model.xf[3])**2\n",
    "#         accsum_expr = sum([dv**2 for dv in model.input[:,0]])\n",
    "#         angsum_expr = 0.0\n",
    "#         for k in range(self.N):\n",
    "#             angsum_expr += (model.state[k,2]**4)*\\\n",
    "#                     (pyo.tan(model.input[k,1])**2)/(self.L**2)\n",
    "\n",
    "#         # Add all costs\n",
    "#         obj = pyo.Objective(expr = term_expr + accsum_expr + angsum_expr)\n",
    "\n",
    "#         return obj\n",
    "\n",
    "    # Convex Objective\n",
    "    def _cvx_obj(self, model):\n",
    "        mul = 0.0\n",
    "        obj = pyo.Objective(expr = sum([sum([model.input[i,j]**2 for i in range(self.N)]) for j in range(3)]))\n",
    "        return obj\n",
    "\n",
    "    # Create and initialize Pyomo model\n",
    "    def _init_model(self):\n",
    "        mu = 3.986e14\n",
    "        rc = 8000e3\n",
    "        n = np.sqrt(mu / (rc**3))\n",
    "        model = pyo.ConcreteModel()\n",
    "        model.limits = pyo.ConstraintList()\n",
    "        \n",
    "        model.u_max = pyo.Param([0], within=pyo.Reals, mutable=True)\n",
    "\n",
    "        # Optimization variables\n",
    "        model.state = pyo.Var(range(self.N+1), range(6),\n",
    "                domain=pyo.Reals, bounds=self._state_bounds)\n",
    "\n",
    "        model.input = pyo.Var(range(self.N), range(3),\n",
    "                domain=pyo.Reals, bounds=self._input_bounds)\n",
    "        # model.firing = pyo.Var(range(self.N), [0], domain=pyo.Binary)\n",
    "\n",
    "        # Optimization parameters\n",
    "        model.x0 = pyo.Param(range(6), within=pyo.Reals, mutable=True)\n",
    "        model.xf = pyo.Param(range(6), within=pyo.Reals, mutable=True)\n",
    "        \n",
    "        # Firing constraints\n",
    "        # for n in range(self.N):\n",
    "        #     model.limits.add(model.input[n, 0] <= 1000*model.firing[n,0] + 0.0001)\n",
    "        #     model.limits.add(model.input[n, 0] >= -1000*model.firing[n,0] - 0.0001)\n",
    "        #     model.limits.add(model.input[n, 1] <= 1000*model.firing[n,0] + 0.0001)\n",
    "        #     model.limits.add(model.input[n, 1] >= -1000*model.firing[n,0] - 0.0001)\n",
    "        #     model.limits.add(model.input[n, 2] <= 1000*model.firing[n,0] + 0.0001)\n",
    "        #     model.limits.add(model.input[n, 2] >= -1000*model.firing[n,0] - 0.0001)\n",
    "\n",
    "        # Initial conditions\n",
    "        model.limits.add(model.state[0,0] == model.x0[0])\n",
    "        model.limits.add(model.state[0,1] == model.x0[1])\n",
    "        model.limits.add(model.state[0,2] == model.x0[2])\n",
    "        model.limits.add(model.state[0,3] == model.x0[3])\n",
    "        model.limits.add(model.state[0,4] == model.x0[4])\n",
    "        model.limits.add(model.state[0,5] == model.x0[5])\n",
    "        \n",
    "        # Final conditions\n",
    "        model.limits.add(model.state[self.N,0] == model.xf[0])\n",
    "        model.limits.add(model.state[self.N,1] == model.xf[1])\n",
    "        model.limits.add(model.state[self.N,2] == model.xf[2])\n",
    "        model.limits.add(model.state[self.N,3] == model.xf[3])\n",
    "        model.limits.add(model.state[self.N,4] == model.xf[4])\n",
    "        model.limits.add(model.state[self.N,5] == model.xf[5])\n",
    "\n",
    "        # Dynamics Constraints\n",
    "        for k in range(self.N):\n",
    "            # X position\n",
    "            model.limits.add(model.state[k+1,0] == model.state[k,0] + self.dt*model.state[k,3])\n",
    "            # Y Position\n",
    "            model.limits.add(model.state[k+1,1] == model.state[k,1] + self.dt*model.state[k,4])\n",
    "            # Z Position\n",
    "            model.limits.add(model.state[k+1,2] == model.state[k,2] + self.dt*model.state[k,5])\n",
    "            \n",
    "            denom = pyo.sqrt((rc+model.state[k,0])*(rc+model.state[k,0]) + model.state[k,1]*model.state[k,1] + model.state[k,2]*model.state[k,2])**3\n",
    "            # X Velocity\n",
    "            model.limits.add(model.state[k+1,3] == model.state[k,3] + self.dt*(-1*mu*(rc + model.state[k,0])/denom + mu/rc**2 + 2*n*model.state[k,4] + n*n*model.state[k,0] + model.input[k, 0]))\n",
    "            \n",
    "            # Y Velocity\n",
    "            model.limits.add(model.state[k+1,4] == model.state[k,4] + self.dt*(-1*mu*model.state[k,1]/denom + 2*n*model.state[k,3] + n*n*model.state[k,1] + model.input[k, 1]))\n",
    "            \n",
    "            # Z Velocity\n",
    "            model.limits.add(model.state[k+1,5] == model.state[k,5] + self.dt*(-1*mu*model.state[k,2]/denom + model.input[k, 2]))\n",
    "            \n",
    "#             # X position\n",
    "#             model.limits.add(model.state[k+1,0] == model.state[k,0] + self.dt*model.state[k,3])\n",
    "#             # Y Position\n",
    "#             model.limits.add(model.state[k+1,1] == model.state[k,1] + self.dt*model.state[k,4])\n",
    "#             # Z Position\n",
    "#             model.limits.add(model.state[k+1,2] == model.state[k,2] + self.dt*model.state[k,5])\n",
    "#             bj\n",
    "#             # X Velocity\n",
    "#             model.limits.add(model.state[k+1,3] == model.state[k,3] + self.dt*(model.input[k, 0] + 3*n*n*model.state[k,0] + 2*n*model.state[k,4]))\n",
    "            \n",
    "#             # Y Velocity\n",
    "#             model.limits.add(model.state[k+1,4] == model.state[k,4] + self.dt*(model.input[k, 1] + -2*n*model.state[k,3]))\n",
    "            \n",
    "#             # Z Velocity\n",
    "#             model.limits.add(model.state[k+1,5] == model.state[k,5] + self.dt*(model.input[k, 2] + -1*n*n*model.state[k,2]))\n",
    "            \n",
    "\n",
    "        # Get obj function\n",
    "        model.OBJ = self.obj(model)\n",
    "\n",
    "        # Return model\n",
    "        return model\n",
    "\n",
    "\n",
    "    # Create 'mpc_traj.png'\n",
    "    def _plot(self):\n",
    "        xs = np.array([self.model.state[t,0].value for t in range(self.N)])\n",
    "        ys = np.array([self.model.state[t,1].value for t in range(self.N)])\n",
    "        zs = np.array([self.model.state[t,2].value for t in range(self.N)])\n",
    "        \n",
    "        uxs = np.array([self.model.input[t,0].value for t in range(self.N)])\n",
    "        uys = np.array([self.model.input[t,1].value for t in range(self.N)])\n",
    "        uzs = np.array([self.model.input[t,2].value for t in range(self.N)])\n",
    "        \n",
    "        times = np.linspace(0, self.N*self.dt, self.N)\n",
    "        \n",
    "        plt.plot(xs, ys)\n",
    "        plt.title(\"Trajectory (In RT plane)\")\n",
    "        plt.show()\n",
    "        plt.plot(times, uxs)\n",
    "        plt.plot(times, uys)\n",
    "        plt.plot(times, uzs)\n",
    "        plt.legend([\"R\", \"T\", \"N\"])\n",
    "        plt.title(\"Control (m/s^2)\")\n",
    "        plt.show()\n",
    "        plt.plot(times, xs)\n",
    "        plt.plot(times, ys)\n",
    "        plt.legend([\"R (m)\", \"T (m)\"])\n",
    "        axes_equal = False\n",
    "        plt.show()"
   ]
  },
  {
   "cell_type": "code",
   "execution_count": 40,
   "id": "645f08c6-156e-4850-951b-a20a0d8eb532",
   "metadata": {},
   "outputs": [],
   "source": [
    "solver = TrajectorySolver(plot=True)"
   ]
  },
  {
   "cell_type": "code",
   "execution_count": 41,
   "id": "c5a11e01-a0a2-4a0e-8b66-6582b595a058",
   "metadata": {},
   "outputs": [],
   "source": [
    "from utils.orbital_elements import *"
   ]
  },
  {
   "cell_type": "code",
   "execution_count": 42,
   "id": "78410d60-16cd-4188-9f4f-cf89687693b2",
   "metadata": {},
   "outputs": [],
   "source": [
    "targetPV = pv_from_moe(moe=make_coe(a=8000e3,arg_peri=0.0,e=0.0,i=0.0,raan=0.0,true_anom=0.0))\n",
    "chaserPV = pv_from_moe(moe=make_coe(a=8000e3,arg_peri=0.0,e=0.0,i=0.0,raan=0.0,true_anom=(0.001/4.0)))"
   ]
  },
  {
   "cell_type": "code",
   "execution_count": 43,
   "id": "aeee21a8-d0d0-4a45-918e-50153d17977a",
   "metadata": {},
   "outputs": [
    {
     "data": {
      "text/plain": [
       "array([ 7.99999975e+06,  1.99999998e+03,  0.00000000e+00, -1.76467161e+00,\n",
       "        7.05868629e+03,  0.00000000e+00])"
      ]
     },
     "execution_count": 43,
     "metadata": {},
     "output_type": "execute_result"
    }
   ],
   "source": [
    "chaserPV"
   ]
  },
  {
   "cell_type": "code",
   "execution_count": 44,
   "id": "62be5cb0-a236-4600-afda-4938acca31fe",
   "metadata": {},
   "outputs": [
    {
     "name": "stdout",
     "output_type": "stream",
     "text": [
      "Ipopt 3.14.5: \n",
      "\n",
      "******************************************************************************\n",
      "This program contains Ipopt, a library for large-scale nonlinear optimization.\n",
      " Ipopt is released as open source code under the Eclipse Public License (EPL).\n",
      "         For more information visit https://github.com/coin-or/Ipopt\n",
      "******************************************************************************\n",
      "\n",
      "This is Ipopt version 3.14.5, running with linear solver MUMPS 5.2.1.\n",
      "\n",
      "Number of nonzeros in equality constraint Jacobian...:    29012\n",
      "Number of nonzeros in inequality constraint Jacobian.:        0\n",
      "Number of nonzeros in Lagrangian Hessian.............:     9000\n",
      "\n",
      "Total number of variables............................:     9006\n",
      "                     variables with only lower bounds:        0\n",
      "                variables with lower and upper bounds:     3000\n",
      "                     variables with only upper bounds:        0\n",
      "Total number of equality constraints.................:     6012\n",
      "Total number of inequality constraints...............:        0\n",
      "        inequality constraints with only lower bounds:        0\n",
      "   inequality constraints with lower and upper bounds:        0\n",
      "        inequality constraints with only upper bounds:        0\n",
      "\n",
      "iter    objective    inf_pr   inf_du lg(mu)  ||d||  lg(rg) alpha_du alpha_pr  ls\n",
      "   0  0.0000000e+00 2.00e+03 0.00e+00  -1.0 0.00e+00    -  0.00e+00 0.00e+00   0\n",
      "   1  2.6855699e-05 5.84e-06 2.82e-11  -1.0 2.00e+03    -  1.00e+00 1.00e+00h  1\n",
      "   2  2.6832270e-05 3.13e-13 3.05e-15  -2.5 4.50e-01    -  1.00e+00 1.00e+00h  1\n",
      "   3  2.6832270e-05 2.27e-13 1.01e-16  -3.8 1.03e-02    -  1.00e+00 1.00e+00h  1\n",
      "   4  2.6832269e-05 2.27e-13 2.98e-18  -5.7 4.39e-02    -  1.00e+00 1.00e+00h  1\n",
      "   5  2.6832269e-05 2.27e-13 1.08e-19  -8.6 6.28e-02    -  1.00e+00 1.00e+00h  1\n",
      "\n",
      "Number of Iterations....: 5\n",
      "\n",
      "                                   (scaled)                 (unscaled)\n",
      "Objective...............:   2.6832268799713394e-05    2.6832268799713394e-05\n",
      "Dual infeasibility......:   1.0842021724855044e-19    1.0842021724855044e-19\n",
      "Constraint violation....:   2.2737367544323206e-13    2.2737367544323206e-13\n",
      "Variable bound violation:   0.0000000000000000e+00    0.0000000000000000e+00\n",
      "Complementarity.........:   2.5137295656615085e-09    2.5137295656615085e-09\n",
      "Overall NLP error.......:   2.5137295656615085e-09    2.5137295656615085e-09\n",
      "\n",
      "\n",
      "Number of objective function evaluations             = 6\n",
      "Number of objective gradient evaluations             = 6\n",
      "Number of equality constraint evaluations            = 6\n",
      "Number of inequality constraint evaluations          = 0\n",
      "Number of equality constraint Jacobian evaluations   = 6\n",
      "Number of inequality constraint Jacobian evaluations = 0\n",
      "Number of Lagrangian Hessian evaluations             = 5\n",
      "Total seconds in IPOPT                               = 0.152\n",
      "\n",
      "EXIT: Optimal Solution Found.\n"
     ]
    },
    {
     "data": {
      "image/png": "[encoded data removed]",
      "text/plain": [
       "<Figure size 432x288 with 1 Axes>"
      ]
     },
     "metadata": {
      "needs_background": "light"
     },
     "output_type": "display_data"
    },
    {
     "data": {
      "image/png": "[encoded data removed]",
      "text/plain": [
       "<Figure size 432x288 with 1 Axes>"
      ]
     },
     "metadata": {
      "needs_background": "light"
     },
     "output_type": "display_data"
    },
    {
     "data": {
      "image/png": "[encoded data removed]",
      "text/plain": [
       "<Figure size 432x288 with 1 Axes>"
      ]
     },
     "metadata": {
      "needs_background": "light"
     },
     "output_type": "display_data"
    }
   ],
   "source": [
    "output = solver(x0=[0, 2000, 0, 0.0, 0, 0], xf=[0, 0, 0, 0, 0, 0],u_max=0.01, tee=True)\n",
    "np.savetxt(\"2000mLeadingRendezvous.csv\", output, delimiter=\",\", header=\"time,x,y,z,vx,vy,vz\", comments=\"\")"
   ]
  },
  {
   "cell_type": "code",
   "execution_count": 332,
   "id": "bb147c6f-5cc9-4e94-8f9d-3114fb6d5761",
   "metadata": {},
   "outputs": [
    {
     "name": "stdout",
     "output_type": "stream",
     "text": [
      "[ 0.0000000e+00 -5.2481591e-33  2.0000000e+03  0.0000000e+00\n",
      " -1.8000000e+00  0.0000000e+00  0.0000000e+00]\n"
     ]
    }
   ],
   "source": [
    "print(output[0,:])"
   ]
  },
  {
   "cell_type": "code",
   "execution_count": null,
   "id": "6dd77635-9830-4c32-bc7d-400ef09e3e44",
   "metadata": {},
   "outputs": [],
   "source": []
  }
 ],
 "metadata": {
  "kernelspec": {
   "display_name": "Python 3 (ipykernel)",
   "language": "python",
   "name": "python3"
  },
  "language_info": {
   "codemirror_mode": {
    "name": "ipython",
    "version": 3
   },
   "file_extension": ".py",
   "mimetype": "text/x-python",
   "name": "python",
   "nbconvert_exporter": "python",
   "pygments_lexer": "ipython3",
   "version": "3.9.5"
  }
 },
 "nbformat": 4,
 "nbformat_minor": 5
}
